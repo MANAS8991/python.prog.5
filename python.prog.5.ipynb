{
 "cells": [
  {
   "cell_type": "markdown",
   "id": "75a72644",
   "metadata": {},
   "source": [
    "# 1. Write a Python Program to Find LCM?"
   ]
  },
  {
   "cell_type": "code",
   "execution_count": 1,
   "id": "789cf5d3",
   "metadata": {},
   "outputs": [
    {
     "name": "stdout",
     "output_type": "stream",
     "text": [
      "Enter the first number: 4\n",
      "Enter the second number: 8\n",
      "The LCM of 4 and 8 is 8\n"
     ]
    }
   ],
   "source": [
    "def find_lcm(a, b):\n",
    "    # Find the maximum of the two numbers\n",
    "    max_num = max(a, b)\n",
    "    \n",
    "    # Start from the maximum number and check multiples\n",
    "    lcm = max_num\n",
    "    while True:\n",
    "        if lcm % a == 0 and lcm % b == 0:\n",
    "            # Found the LCM\n",
    "            break\n",
    "        lcm += max_num\n",
    "\n",
    "    return lcm\n",
    "\n",
    "# Take input for the two numbers\n",
    "num1 = int(input(\"Enter the first number: \"))\n",
    "num2 = int(input(\"Enter the second number: \"))\n",
    "\n",
    "# Find the LCM\n",
    "lcm = find_lcm(num1, num2)\n",
    "\n",
    "# Print the LCM\n",
    "print(\"The LCM of\", num1, \"and\", num2, \"is\", lcm)\n"
   ]
  },
  {
   "cell_type": "markdown",
   "id": "1fea59df",
   "metadata": {},
   "source": [
    "# 2. Write a Python Program to Find HCF?"
   ]
  },
  {
   "cell_type": "code",
   "execution_count": 2,
   "id": "c83c55df",
   "metadata": {},
   "outputs": [
    {
     "name": "stdout",
     "output_type": "stream",
     "text": [
      "Enter the first number: 3\n",
      "Enter the second number: 6\n",
      "The HCF of 3 and 6 is 3\n"
     ]
    }
   ],
   "source": [
    "def find_hcf(a, b):\n",
    "    # Find the smaller of the two numbers\n",
    "    min_num = min(a, b)\n",
    "    \n",
    "    # Initialize the HCF variable to 1\n",
    "    hcf = 1\n",
    "    \n",
    "    # Check for factors from 1 to the smaller number\n",
    "    for i in range(1, min_num + 1):\n",
    "        if a % i == 0 and b % i == 0:\n",
    "            # Update the HCF if a common factor is found\n",
    "            hcf = i\n",
    "    \n",
    "    return hcf\n",
    "\n",
    "# Take input for the two numbers\n",
    "num1 = int(input(\"Enter the first number: \"))\n",
    "num2 = int(input(\"Enter the second number: \"))\n",
    "\n",
    "# Find the HCF\n",
    "hcf = find_hcf(num1, num2)\n",
    "\n",
    "# Print the HCF\n",
    "print(\"The HCF of\", num1, \"and\", num2, \"is\", hcf)\n"
   ]
  },
  {
   "cell_type": "markdown",
   "id": "99eb810b",
   "metadata": {},
   "source": [
    "# 3. Write a Python Program to Convert Decimal to Binary, Octal and Hexadecimal?"
   ]
  },
  {
   "cell_type": "code",
   "execution_count": 6,
   "id": "e251a781",
   "metadata": {},
   "outputs": [
    {
     "name": "stdout",
     "output_type": "stream",
     "text": [
      "Enter a decimal number: 5\n",
      "Binary: 101\n",
      "Octal: 5\n",
      "Hexadecimal: 5\n"
     ]
    }
   ],
   "source": [
    "def decimal_to_binary(decimal):\n",
    "    return bin(decimal)[2:]\n",
    "\n",
    "def decimal_to_octal(decimal):\n",
    "    return oct(decimal)[2:]\n",
    "\n",
    "def decimal_to_hexadecimal(decimal):\n",
    "    return hex(decimal)[2:]\n",
    "\n",
    "# Take input for the decimal number\n",
    "decimal = int(input(\"Enter a decimal number: \"))\n",
    "\n",
    "# Convert to binary\n",
    "binary = decimal_to_binary(decimal)\n",
    "print(\"Binary:\", binary)\n",
    "\n",
    "# Convert to octal\n",
    "octal = decimal_to_octal(decimal)\n",
    "print(\"Octal:\", octal)\n",
    "\n",
    "# Convert to hexadecimal\n",
    "hexadecimal = decimal_to_hexadecimal(decimal)\n",
    "print(\"Hexadecimal:\", hexadecimal)\n"
   ]
  },
  {
   "cell_type": "markdown",
   "id": "00e6c151",
   "metadata": {},
   "source": [
    "# 4. Write a Python Program To Find ASCII value of a character?"
   ]
  },
  {
   "cell_type": "code",
   "execution_count": 7,
   "id": "3fd2c386",
   "metadata": {},
   "outputs": [
    {
     "name": "stdout",
     "output_type": "stream",
     "text": [
      "Enter a character: h\n",
      "ASCII value of h is 104\n"
     ]
    }
   ],
   "source": [
    "# Take input for the character\n",
    "character = input(\"Enter a character: \")\n",
    "\n",
    "# Convert the character to ASCII value\n",
    "ascii_value = ord(character)\n",
    "\n",
    "# Print the ASCII value\n",
    "print(\"ASCII value of\", character, \"is\", ascii_value)\n"
   ]
  },
  {
   "cell_type": "markdown",
   "id": "8b8fb3a2",
   "metadata": {},
   "source": [
    "# 5. Write a Python Program to Make a Simple Calculator with 4 basic mathematical operations?"
   ]
  },
  {
   "cell_type": "code",
   "execution_count": 8,
   "id": "b9b7566b",
   "metadata": {},
   "outputs": [
    {
     "name": "stdout",
     "output_type": "stream",
     "text": [
      "Enter the first number: 25\n",
      "Enter the second number: 7\n",
      "Select operation:\n",
      "1. Addition\n",
      "2. Subtraction\n",
      "3. Multiplication\n",
      "4. Division\n",
      "Enter your choice (1-4): 3\n",
      "Result: 175.0\n"
     ]
    }
   ],
   "source": [
    "# Function to add two numbers\n",
    "def add(num1, num2):\n",
    "    return num1 + num2\n",
    "\n",
    "# Function to subtract two numbers\n",
    "def subtract(num1, num2):\n",
    "    return num1 - num2\n",
    "\n",
    "# Function to multiply two numbers\n",
    "def multiply(num1, num2):\n",
    "    return num1 * num2\n",
    "\n",
    "# Function to divide two numbers\n",
    "def divide(num1, num2):\n",
    "    return num1 / num2\n",
    "\n",
    "# Take input from the user\n",
    "num1 = float(input(\"Enter the first number: \"))\n",
    "num2 = float(input(\"Enter the second number: \"))\n",
    "\n",
    "# Display menu for operations\n",
    "print(\"Select operation:\")\n",
    "print(\"1. Addition\")\n",
    "print(\"2. Subtraction\")\n",
    "print(\"3. Multiplication\")\n",
    "print(\"4. Division\")\n",
    "\n",
    "# Take input for the choice of operation\n",
    "choice = int(input(\"Enter your choice (1-4): \"))\n",
    "\n",
    "# Perform the selected operation and display the result\n",
    "if choice == 1:\n",
    "    result = add(num1, num2)\n",
    "    print(\"Result:\", result)\n",
    "elif choice == 2:\n",
    "    result = subtract(num1, num2)\n",
    "    print(\"Result:\", result)\n",
    "elif choice == 3:\n",
    "    result = multiply(num1, num2)\n",
    "    print(\"Result:\", result)\n",
    "elif choice == 4:\n",
    "    result = divide(num1, num2)\n",
    "    print(\"Result:\", result)\n",
    "else:\n",
    "    print(\"Invalid choice\")\n"
   ]
  },
  {
   "cell_type": "code",
   "execution_count": null,
   "id": "c97151b1",
   "metadata": {},
   "outputs": [],
   "source": []
  }
 ],
 "metadata": {
  "kernelspec": {
   "display_name": "Python 3 (ipykernel)",
   "language": "python",
   "name": "python3"
  },
  "language_info": {
   "codemirror_mode": {
    "name": "ipython",
    "version": 3
   },
   "file_extension": ".py",
   "mimetype": "text/x-python",
   "name": "python",
   "nbconvert_exporter": "python",
   "pygments_lexer": "ipython3",
   "version": "3.9.12"
  }
 },
 "nbformat": 4,
 "nbformat_minor": 5
}
